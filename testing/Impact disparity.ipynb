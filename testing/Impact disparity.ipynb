{
 "cells": [
  {
   "cell_type": "code",
   "execution_count": 9,
   "id": "initial_id",
   "metadata": {
    "collapsed": true,
    "ExecuteTime": {
     "end_time": "2025-01-15T16:45:19.094813Z",
     "start_time": "2025-01-15T16:45:19.092189Z"
    }
   },
   "outputs": [],
   "source": [
    "import pandas as pd\n",
    "import numpy as np\n",
    "from sklearn.ensemble import RandomForestClassifier\n",
    "from sklearn.model_selection import train_test_split\n",
    "from sklearn.metrics import accuracy_score\n",
    "from skl2onnx import convert_sklearn\n",
    "from skl2onnx.common.data_types import FloatTensorType\n",
    "import onnx\n",
    "\n",
    "import pandas as pd\n",
    "import numpy as np\n",
    "import onnxruntime as rt\n",
    "\n",
    "import matplotlib.pyplot as plt\n",
    "import numpy as np\n",
    "import seaborn as sns"
   ]
  },
  {
   "cell_type": "code",
   "outputs": [],
   "source": [
    "# constants and parameters definition\n",
    "\n",
    "data_path = '../data/300k_dataset.csv'\n",
    "model1_path = '../Group 9/model_1.onnx'\n",
    "model2_path = '../Group 9/model_2.onnx'"
   ],
   "metadata": {
    "collapsed": false,
    "ExecuteTime": {
     "end_time": "2025-01-15T16:45:19.099292Z",
     "start_time": "2025-01-15T16:45:19.095815Z"
    }
   },
   "id": "3ede9c97d90e8021",
   "execution_count": 10
  },
  {
   "cell_type": "code",
   "outputs": [],
   "source": [
    "def impact_disparity_test(\n",
    "        model_path, data_address, sensitive_attributes=None, selection_threshold=0.8, bins=5\n",
    "):\n",
    "    data = pd.read_csv(data_address)\n",
    "    excluded_columns = ['checked', 'Ja', 'Nee']\n",
    "    X = data.drop(excluded_columns, axis=1, errors='ignore').astype(np.float32)\n",
    "\n",
    "    session = rt.InferenceSession(model_path)\n",
    "    input_name = session.get_inputs()[0].name\n",
    "\n",
    "    results = {}\n",
    "\n",
    "    attributes_to_test = sensitive_attributes if sensitive_attributes else [col for col in data.columns if col not in excluded_columns]\n",
    "\n",
    "    for attr in attributes_to_test:\n",
    "        # Check if the feature is continuous or binary\n",
    "        unique_values = data[attr].dropna().unique()\n",
    "\n",
    "        if len(unique_values) == 2 and set(unique_values).issubset({0, 1}):  # Binary attribute\n",
    "            group_0 = data[data[attr] == 0]\n",
    "            group_1 = data[data[attr] == 1]\n",
    "            \n",
    "            preds_0 = session.run(None, {input_name: group_0.drop(excluded_columns, axis=1, errors='ignore').astype(np.float32).values})[0]\n",
    "            preds_1 = session.run(None, {input_name: group_1.drop(excluded_columns, axis=1, errors='ignore').astype(np.float32).values})[0]\n",
    "\n",
    "            if preds_0.ndim > 1:\n",
    "                preds_0 = np.argmax(preds_0, axis=1)\n",
    "            if preds_1.ndim > 1:\n",
    "                preds_1 = np.argmax(preds_1, axis=1)\n",
    "\n",
    "            prob_0 = np.sum(preds_0) / len(preds_0) if len(preds_0) > 0 else 0\n",
    "            prob_1 = np.sum(preds_1) / len(preds_1) if len(preds_1) > 0 else 0\n",
    "\n",
    "            impact_disparity = min(prob_1 / prob_0, prob_0 / prob_1) if prob_0 > 0 and prob_1 > 0 else float('inf')\n",
    "\n",
    "            results[attr] = {\n",
    "                \"group_0_size\": len(group_0),\n",
    "                \"group_1_size\": len(group_1),\n",
    "                \"prob_0\": prob_0,\n",
    "                \"prob_1\": prob_1,\n",
    "                \"impact_disparity\": impact_disparity,\n",
    "                \"passes_threshold\": impact_disparity >= selection_threshold\n",
    "            }\n",
    "\n",
    "        else:  # Continuous attribute\n",
    "# Split into 5 groups manually\n",
    "            data_sorted = data[[attr]].sort_values(by=attr).dropna()\n",
    "            group_size = len(data_sorted) // bins\n",
    "            bin_probs = {}\n",
    "            bin_sizes = {}\n",
    "\n",
    "            for i in range(bins):\n",
    "                start = i * group_size\n",
    "                end = (i + 1) * group_size if i < bins - 1 else len(data_sorted)\n",
    "                group_data = data_sorted.iloc[start:end]\n",
    "\n",
    "                # Filter the corresponding rows in the full dataset\n",
    "                bin_data = data[data[attr].isin(group_data[attr])]\n",
    "                bin_X = bin_data.drop(excluded_columns, axis=1, errors='ignore').astype(np.float32)\n",
    "\n",
    "                if bin_X.empty:\n",
    "                    continue\n",
    "\n",
    "                preds = session.run(None, {input_name: bin_X.values})[0]\n",
    "                if preds.ndim > 1:\n",
    "                    preds = np.argmax(preds, axis=1)\n",
    "\n",
    "                prob = np.sum(preds) / len(preds) if len(preds) > 0 else 0\n",
    "                bin_probs[f\"group_{i + 1}\"] = prob\n",
    "                bin_sizes[f\"group_{i + 1}\"] = len(bin_data)\n",
    "\n",
    "            # Calculate disparities between groups\n",
    "            disparities = []\n",
    "            group_keys = list(bin_probs.keys())\n",
    "            for i in range(len(group_keys)):\n",
    "                for j in range(i + 1, len(group_keys)):\n",
    "                    prob_i = bin_probs[group_keys[i]]\n",
    "                    prob_j = bin_probs[group_keys[j]]\n",
    "\n",
    "                    if prob_i > 0 and prob_j > 0:\n",
    "                        disparity = min(prob_i / prob_j, prob_j / prob_i)\n",
    "                        disparities.append(disparity)\n",
    "\n",
    "            # Get the worst disparity\n",
    "            worst_disparity = min(disparities) if disparities else float('inf')\n",
    "\n",
    "            results[attr] = {\n",
    "                \"bin_sizes\": bin_sizes,\n",
    "                \"bin_probs\": bin_probs,\n",
    "                \"worst_disparity\": worst_disparity,\n",
    "                \"passes_threshold\": worst_disparity >= selection_threshold\n",
    "            }\n",
    "\n",
    "        if not results[attr][\"passes_threshold\"]:\n",
    "            print(f\"Attribute {attr} does not pass disparate impact test. Disparity: {results[attr]}\")\n",
    "\n",
    "    return results"
   ],
   "metadata": {
    "collapsed": false,
    "ExecuteTime": {
     "end_time": "2025-01-15T17:40:35.529224Z",
     "start_time": "2025-01-15T17:40:35.521983Z"
    }
   },
   "id": "2a1b1896794ff35d",
   "execution_count": 48
  },
  {
   "cell_type": "code",
   "outputs": [],
   "source": [
    "# impact_disparity_test(model1_path, data_path)"
   ],
   "metadata": {
    "collapsed": false,
    "ExecuteTime": {
     "end_time": "2025-01-15T17:31:00.729166Z",
     "start_time": "2025-01-15T17:31:00.727430Z"
    }
   },
   "id": "e6419402113642e4",
   "execution_count": 28
  },
  {
   "cell_type": "code",
   "outputs": [],
   "source": [
    "# impact_disparity_test(model2_path, data_path)"
   ],
   "metadata": {
    "collapsed": false,
    "ExecuteTime": {
     "end_time": "2025-01-15T17:31:01.221528Z",
     "start_time": "2025-01-15T17:31:01.219356Z"
    }
   },
   "id": "a0afa20879f158e8",
   "execution_count": 29
  },
  {
   "cell_type": "code",
   "outputs": [
    {
     "data": {
      "text/plain": "{'persoon_geslacht_vrouw': {'group_0_size': 155063,\n  'group_1_size': 144937,\n  'prob_0': 0.015490478063754733,\n  'prob_1': 0.012591677763442046,\n  'impact_disparity': 0.8128656657088318,\n  'passes_threshold': True}}"
     },
     "execution_count": 37,
     "metadata": {},
     "output_type": "execute_result"
    }
   ],
   "source": [
    "impact_disparity_test(model1_path, data_path, sensitive_attributes=['persoon_geslacht_vrouw'])"
   ],
   "metadata": {
    "collapsed": false,
    "ExecuteTime": {
     "end_time": "2025-01-15T17:33:55.305525Z",
     "start_time": "2025-01-15T17:33:51.336580Z"
    }
   },
   "id": "9ed96879525ca0e",
   "execution_count": 37
  },
  {
   "cell_type": "code",
   "outputs": [
    {
     "name": "stdout",
     "output_type": "stream",
     "text": [
      "Attribute persoon_geslacht_vrouw does not pass disparate impact test. Disparity: {'group_0_size': 155063, 'group_1_size': 144937, 'prob_0': 0.10134590456782082, 'prob_1': 0.16604455729040893, 'impact_disparity': 0.6103536678445212, 'passes_threshold': False}\n"
     ]
    },
    {
     "data": {
      "text/plain": "{'persoon_geslacht_vrouw': {'group_0_size': 155063,\n  'group_1_size': 144937,\n  'prob_0': 0.10134590456782082,\n  'prob_1': 0.16604455729040893,\n  'impact_disparity': 0.6103536678445212,\n  'passes_threshold': False}}"
     },
     "execution_count": 38,
     "metadata": {},
     "output_type": "execute_result"
    }
   ],
   "source": [
    "impact_disparity_test(model2_path, data_path, sensitive_attributes=['persoon_geslacht_vrouw'])"
   ],
   "metadata": {
    "collapsed": false,
    "ExecuteTime": {
     "end_time": "2025-01-15T17:33:58.895269Z",
     "start_time": "2025-01-15T17:33:55.306527Z"
    }
   },
   "id": "dfb61eccda9d4243",
   "execution_count": 38
  },
  {
   "cell_type": "code",
   "outputs": [
    {
     "name": "stdout",
     "output_type": "stream",
     "text": [
      "Attribute persoonlijke_eigenschappen_dagen_sinds_taaleis does not pass disparate impact test. Disparity: {'bin_sizes': {'group_1': 60365, 'group_2': 60175, 'group_3': 60289, 'group_4': 60488, 'group_5': 60023}, 'bin_probs': {'group_1': 0.0230265882547834, 'group_2': 0.017748234316576652, 'group_3': 0.013468460249796812, 'group_4': 0.010134241502446767, 'group_5': 0.00603102144178065}, 'worst_disparity': 0.26191554628279784, 'passes_threshold': False}\n"
     ]
    },
    {
     "data": {
      "text/plain": "{'persoonlijke_eigenschappen_dagen_sinds_taaleis': {'bin_sizes': {'group_1': 60365,\n   'group_2': 60175,\n   'group_3': 60289,\n   'group_4': 60488,\n   'group_5': 60023},\n  'bin_probs': {'group_1': 0.0230265882547834,\n   'group_2': 0.017748234316576652,\n   'group_3': 0.013468460249796812,\n   'group_4': 0.010134241502446767,\n   'group_5': 0.00603102144178065},\n  'worst_disparity': 0.26191554628279784,\n  'passes_threshold': False}}"
     },
     "execution_count": 53,
     "metadata": {},
     "output_type": "execute_result"
    }
   ],
   "source": [
    "impact_disparity_test(model1_path, data_path, sensitive_attributes=['persoonlijke_eigenschappen_dagen_sinds_taaleis'])"
   ],
   "metadata": {
    "collapsed": false,
    "ExecuteTime": {
     "end_time": "2025-01-15T17:43:18.808184Z",
     "start_time": "2025-01-15T17:43:15.061136Z"
    }
   },
   "id": "8c8a1cd2e929a09b",
   "execution_count": 53
  },
  {
   "cell_type": "code",
   "outputs": [
    {
     "name": "stdout",
     "output_type": "stream",
     "text": [
      "Attribute persoonlijke_eigenschappen_dagen_sinds_taaleis does not pass disparate impact test. Disparity: {'bin_sizes': {'group_1': 60365, 'group_2': 60175, 'group_3': 60289, 'group_4': 60488, 'group_5': 60023}, 'bin_probs': {'group_1': 0.3069990888760043, 'group_2': 0.1921395928541753, 'group_3': 0.10879264874189322, 'group_4': 0.045959529162809154, 'group_5': 0.008896589640637756}, 'worst_disparity': 0.028979205355984146, 'passes_threshold': False}\n"
     ]
    },
    {
     "data": {
      "text/plain": "{'persoonlijke_eigenschappen_dagen_sinds_taaleis': {'bin_sizes': {'group_1': 60365,\n   'group_2': 60175,\n   'group_3': 60289,\n   'group_4': 60488,\n   'group_5': 60023},\n  'bin_probs': {'group_1': 0.3069990888760043,\n   'group_2': 0.1921395928541753,\n   'group_3': 0.10879264874189322,\n   'group_4': 0.045959529162809154,\n   'group_5': 0.008896589640637756},\n  'worst_disparity': 0.028979205355984146,\n  'passes_threshold': False}}"
     },
     "execution_count": 52,
     "metadata": {},
     "output_type": "execute_result"
    }
   ],
   "source": [
    "impact_disparity_test(model2_path, data_path, sensitive_attributes=['persoonlijke_eigenschappen_dagen_sinds_taaleis'])"
   ],
   "metadata": {
    "collapsed": false,
    "ExecuteTime": {
     "end_time": "2025-01-15T17:43:15.061136Z",
     "start_time": "2025-01-15T17:43:11.234299Z"
    }
   },
   "id": "c227598a2f7a4d0c",
   "execution_count": 52
  },
  {
   "cell_type": "code",
   "outputs": [],
   "source": [],
   "metadata": {
    "collapsed": false
   },
   "id": "8c8f6590cace0be3"
  }
 ],
 "metadata": {
  "kernelspec": {
   "display_name": "Python 3",
   "language": "python",
   "name": "python3"
  },
  "language_info": {
   "codemirror_mode": {
    "name": "ipython",
    "version": 2
   },
   "file_extension": ".py",
   "mimetype": "text/x-python",
   "name": "python",
   "nbconvert_exporter": "python",
   "pygments_lexer": "ipython2",
   "version": "2.7.6"
  }
 },
 "nbformat": 4,
 "nbformat_minor": 5
}
